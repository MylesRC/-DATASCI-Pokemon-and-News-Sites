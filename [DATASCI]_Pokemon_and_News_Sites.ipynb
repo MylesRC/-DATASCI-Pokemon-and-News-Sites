{
 "cells": [
  {
   "cell_type": "markdown",
   "metadata": {
    "id": "pVP3InOKEceh"
   },
   "source": [
    "# Bulbapedia"
   ]
  },
  {
   "cell_type": "code",
   "execution_count": 1,
   "metadata": {
    "id": "wwfLlVK-EKsC"
   },
   "outputs": [],
   "source": [
    "import requests\n",
    "from bs4 import BeautifulSoup\n",
    "from tqdm import tqdm\n",
    "\n",
    "URL=\"https://bulbapedia.bulbagarden.net/wiki/List_of_Pok%C3%A9mon_by_National_Pok%C3%A9dex_number\"\n",
    "page=requests.get(URL)\n",
    "soup = BeautifulSoup(page.content, 'html.parser')"
   ]
  },
  {
   "cell_type": "code",
   "execution_count": 2,
   "metadata": {
    "id": "6T5BGXJ7E_pz"
   },
   "outputs": [],
   "source": [
    "poke_content=soup.find(id='mw-content-text')\n",
    "\n",
    "poke_tables=poke_content.find_all('table')\n",
    "poke_headers = poke_content.find_all('h3')"
   ]
  },
  {
   "cell_type": "code",
   "execution_count": 3,
   "metadata": {
    "colab": {
     "base_uri": "https://localhost:8080/"
    },
    "id": "r6AMVGSRIE6P",
    "outputId": "cf7006e3-e148-447a-c4b5-9aa91f31a47b"
   },
   "outputs": [
    {
     "name": "stderr",
     "output_type": "stream",
     "text": [
      "100%|██████████| 180/180 [00:00<00:00, 25782.01it/s]\n",
      "100%|██████████| 102/102 [00:00<00:00, 25570.44it/s]\n",
      "100%|██████████| 143/143 [00:00<00:00, 28680.03it/s]\n",
      "100%|██████████| 120/120 [00:00<00:00, 30082.87it/s]\n",
      "100%|██████████| 167/167 [00:00<00:00, 27907.44it/s]\n",
      "100%|██████████| 73/73 [00:00<00:00, 36611.77it/s]\n",
      "100%|██████████| 91/91 [00:00<00:00, 30429.85it/s]\n",
      "100%|██████████| 94/94 [00:00<00:00, 18886.93it/s]\n"
     ]
    }
   ],
   "source": [
    "table_start = 1\n",
    "info_start = 3\n",
    "\n",
    "poke_json = {}\n",
    "\n",
    "for i in range(table_start, table_start + 8):\n",
    "  temp_list = []\n",
    "  for j in tqdm(range(info_start, len(poke_tables[i].contents), 2)):\n",
    "    poke_info = poke_tables[i].contents[j]\n",
    "    kdex = poke_info.contents[1].text.strip()\n",
    "    ndex = poke_info.contents[3].text.strip()\n",
    "    name = poke_info.contents[7].text.strip()\n",
    "    URL = 'https://bulbapedia.bulbagarden.net' + poke_info.contents[7].a.get('href')\n",
    "    types = []\n",
    "    types.append(poke_info.contents[9].text.strip())\n",
    "    if len(poke_info.contents) > 10:\n",
    "        types.append(poke_info.contents[11].text.strip())\n",
    "    temp_list.append({\n",
    "          \"kdex\": kdex,\n",
    "          \"ndex\": ndex,\n",
    "          \"name\": name,\n",
    "          \"types\": types,\n",
    "          \"URL\": URL\n",
    "      })\n",
    "  poke_json[poke_headers[i - table_start].span.get('id')] = temp_list"
   ]
  },
  {
   "cell_type": "code",
   "execution_count": 21,
   "metadata": {
    "id": "vvERIHDGQegk"
   },
   "outputs": [],
   "source": [
    "import json\n",
    "with open('pokemon.json', 'w') as f:\n",
    "    json.dump(poke_json, f, indent = 4)"
   ]
  },
  {
   "cell_type": "markdown",
   "metadata": {
    "id": "PBWF36lVRmgj"
   },
   "source": [
    "# News Site"
   ]
  },
  {
   "cell_type": "code",
   "execution_count": 8,
   "metadata": {
    "id": "Fb3KeT8yRoYy"
   },
   "outputs": [],
   "source": [
    "import requests\n",
    "from bs4 import BeautifulSoup\n",
    "from tqdm import tqdm\n",
    "\n",
    "URL=[\"https://www.dailymail.co.uk/home/sitemaparchive/day_20210311.html\", \"https://www.dailymail.co.uk/home/sitemaparchive/day_20210312.html\"]"
   ]
  },
  {
   "cell_type": "code",
   "execution_count": 16,
   "metadata": {
    "colab": {
     "base_uri": "https://localhost:8080/"
    },
    "id": "w_oD7uigdEuU",
    "outputId": "3988f27d-46d0-40ec-9229-5e428d2c77bd"
   },
   "outputs": [
    {
     "name": "stderr",
     "output_type": "stream",
     "text": [
      "100%|██████████| 500/500 [07:40<00:00,  1.09it/s]\n",
      "100%|██████████| 500/500 [04:51<00:00,  1.71it/s]\n"
     ]
    }
   ],
   "source": [
    "news_json = []\n",
    "\n",
    "for url in URL:\n",
    "  page=requests.get(url)\n",
    "  soup = BeautifulSoup(page.content, 'html.parser')\n",
    "\n",
    "  articles = soup.find('ul', class_='archive-articles debate link-box').contents\n",
    "  articles_start = 1\n",
    "\n",
    "  # due to insufficient memory when getting the complete data set, only a 4th of the data will be retrieved\n",
    "  for i in tqdm(range(articles_start, len(articles)//4, 2)):\n",
    "    article = articles[i]\n",
    "    article_url = 'https://www.dailymail.co.uk' + article.a.get('href')\n",
    "    article_page=requests.get(article_url)\n",
    "    article_soup = BeautifulSoup(article_page.content, 'html.parser')\n",
    "    article_text = article_soup.find(id='js-article-text')\n",
    "\n",
    "    date = article_text.find('span', class_='article-timestamp article-timestamp-published').time.get('datetime')[:10].strip()\n",
    "    if date != '2021-03-12' and date != '2021-03-11':\n",
    "      continue\n",
    "    \n",
    "    try:\n",
    "      title = article_text.h2.text.strip()\n",
    "    except:\n",
    "      title = article_text.h1.text.strip()\n",
    "    \n",
    "    full_text = article_text.find('div', itemprop='articleBody').text.strip()\n",
    "    \n",
    "    try:\n",
    "      author_a = article_text.find_all('a', class_='author')\n",
    "      author = [x.text.strip() for x in author_a]\n",
    "    except:\n",
    "      author = []\n",
    "\n",
    "    news_json.append({\n",
    "        \"date\": date,\n",
    "        \"title\": title,\n",
    "        \"full article\": full_text,\n",
    "        \"author\": author\n",
    "    })"
   ]
  },
  {
   "cell_type": "code",
   "execution_count": 20,
   "metadata": {
    "id": "0-lRx_BMveSi"
   },
   "outputs": [],
   "source": [
    "import json\n",
    "with open('news_site.json', 'w') as f:\n",
    "    json.dump(news_json, f, indent = 4)"
   ]
  },
  {
   "cell_type": "code",
   "execution_count": null,
   "metadata": {},
   "outputs": [],
   "source": []
  }
 ],
 "metadata": {
  "colab": {
   "collapsed_sections": [],
   "name": "[DATASCI] Pokemon and News Sites.ipynb",
   "provenance": []
  },
  "kernelspec": {
   "display_name": "Python 3",
   "language": "python",
   "name": "python3"
  },
  "language_info": {
   "codemirror_mode": {
    "name": "ipython",
    "version": 3
   },
   "file_extension": ".py",
   "mimetype": "text/x-python",
   "name": "python",
   "nbconvert_exporter": "python",
   "pygments_lexer": "ipython3",
   "version": "3.8.5"
  }
 },
 "nbformat": 4,
 "nbformat_minor": 1
}
